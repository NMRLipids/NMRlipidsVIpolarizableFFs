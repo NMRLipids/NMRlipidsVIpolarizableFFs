{
 "cells": [
  {
   "cell_type": "markdown",
   "metadata": {},
   "source": [
    "# Database test"
   ]
  },
  {
   "cell_type": "markdown",
   "metadata": {},
   "source": [
    "## Simulation description file"
   ]
  },
  {
   "cell_type": "code",
   "execution_count": 8,
   "metadata": {},
   "outputs": [],
   "source": [
    "DOI=\"10.5281/zenodo.3994138\"\n",
    "\n",
    "user_information = \"\"\"\n",
    "POPC\n",
    "#NMRLIPIDS BEGIN\n",
    "\n",
    "@SIM\n",
    "@MAPPING=POPC,mappingPOPCcharmm.txt\n",
    "@SYSTEM=POPC_303K_350mM_NaCl_drude\n",
    "@SOFTWARE=openmm\n",
    "@FF=CHARMM_DRUDE\n",
    "@FF_SOURCE=CHARMM-GUI\n",
    "@FF_DATE=??\n",
    "@TRJ=traj_centered_100ps.dcd\n",
    "@TPR=step2_charmm2omm.pdb\n",
    "@PDB=step2_charmm2omm.pdb\n",
    "@PREEQTIME=0\n",
    "\n",
    "@POPC=POPC\n",
    "\n",
    "@POT=M_K_M\n",
    "@SOD=M_NA_M\n",
    "@CLA=M_CL_M\n",
    "@CAL=M_CA_M\n",
    "@SOL=M_SOL_M\n",
    "\n",
    "@NPOPC=[72,72]\n",
    "@NPOPG=[0,0]\n",
    "@NPOPS=[0,0]\n",
    "@NPOPE=[0,0]\n",
    "\n",
    "@NPOT=0\n",
    "@NSOD=41\n",
    "@NCLA=41\n",
    "@NCAL=0\n",
    "@NSOL=6400\n",
    "\n",
    "@TEMPERATURE=303\n",
    "@TRJLENGTH=500\n",
    "\n",
    "\n",
    "#NMRLIPIDS END\n",
    "\n",
    "\"\"\"\n",
    "\n",
    "\n",
    "# Working directory\n",
    "dir_wrk  = \"./\"\n"
   ]
  },
  {
   "cell_type": "markdown",
   "metadata": {},
   "source": [
    "## General Imports"
   ]
  },
  {
   "cell_type": "code",
   "execution_count": 9,
   "metadata": {},
   "outputs": [],
   "source": [
    "# Working with files and directories\n",
    "import os\n",
    "\n",
    "#For quering webs\n",
    "import urllib.request\n",
    "from urllib.error import URLError,HTTPError\n",
    "\n",
    "# From time monitoring\n",
    "from tqdm import tqdm\n",
    "\n",
    "# Python program to find SHA256 hash string of a file\n",
    "import hashlib\n",
    "\n",
    "# For dealing with excel and cvs \n",
    "import pandas as pd\n",
    "pd.set_option('display.max_rows', 500)\n",
    "pd.set_option('display.max_columns', 500)\n",
    "pd.set_option('display.width', 1000)\n",
    "pd.set_option('display.max_colwidth', 1000)\n",
    "\n",
    "#To make real independent copies of lists\n",
    "from copy import deepcopy"
   ]
  },
  {
   "cell_type": "markdown",
   "metadata": {},
   "source": [
    "## Directories"
   ]
  },
  {
   "cell_type": "code",
   "execution_count": 10,
   "metadata": {
    "scrolled": true
   },
   "outputs": [
    {
     "name": "stdout",
     "output_type": "stream",
     "text": [
      ".\n"
     ]
    }
   ],
   "source": [
    "dir_wrk = os.path.normpath(dir_wrk)\n",
    "#mapping_dir =os.path.normpath(mapping_dir)\n",
    "print(dir_wrk)\n",
    "#print(mapping_dir)"
   ]
  },
  {
   "cell_type": "markdown",
   "metadata": {},
   "source": [
    "## Check that the DOI link is valid"
   ]
  },
  {
   "cell_type": "code",
   "execution_count": 11,
   "metadata": {
    "scrolled": true
   },
   "outputs": [
    {
     "name": "stdout",
     "output_type": "stream",
     "text": [
      "https://doi.org/10.5281/zenodo.3994138\n",
      "Status of the DOI link: OK\n"
     ]
    }
   ],
   "source": [
    "DOI_url = 'https://doi.org/' + DOI\n",
    "print(DOI_url)\n",
    "\n",
    "try:\n",
    "    response = urllib.request.urlopen(DOI_url)\n",
    "    print(\"Status of the DOI link: {0}\".format(response.msg))\n",
    "except HTTPError as e:\n",
    "    print(DOI_url)\n",
    "    print('The server couldn\\'t fulfill the request.')\n",
    "    print('Error code: ', e.code)\n",
    "    user_information = \"\"\n",
    "    print('The code will not proceed, please fix DOI')\n",
    "except URLError as e:\n",
    "    print(DOI_url)\n",
    "    print('We failed to reach a server.')\n",
    "    print('Reason: ', e.reason)\n",
    "    user_information = \"\"\n",
    "    print('The code will not proceed, please fix DOI')\n",
    "else:\n",
    "    pass"
   ]
  },
  {
   "cell_type": "markdown",
   "metadata": {},
   "source": [
    "## Read input description"
   ]
  },
  {
   "cell_type": "code",
   "execution_count": 14,
   "metadata": {},
   "outputs": [
    {
     "name": "stdout",
     "output_type": "stream",
     "text": [
      "1\n",
      "[{'ID': 0, 'DOI': '10.5281/zenodo.3994138', 'MAPPING': 'POPC,mappingPOPCcharmm.txt', 'SYSTEM': 'POPC_303K_350mM_NaCl_drude', 'SOFTWARE': 'openmm', 'FF': 'CHARMM_DRUDE', 'FF_SOURCE': 'CHARMM-GUI', 'FF_DATE': '??', 'TRJ': 'traj_centered_100ps.dcd', 'TPR': 'step2_charmm2omm.pdb', 'PDB': 'step2_charmm2omm.pdb', 'PREEQTIME': '0', 'POPC': 'POPC', 'POT': 'M_K_M', 'SOD': 'M_NA_M', 'CLA': 'M_CL_M', 'CAL': 'M_CA_M', 'SOL': 'M_SOL_M', 'NPOPC': '[72,72]', 'NPOPG': '[0,0]', 'NPOPS': '[0,0]', 'NPOPE': '[0,0]', 'NPOT': '0', 'NSOD': '41', 'NCLA': '41', 'NCAL': '0', 'NSOL': '6400', 'TEMPERATURE': '303', 'TRJLENGTH': '500'}]\n"
     ]
    }
   ],
   "source": [
    "bNMRLIPIDS = False #Check if the link contains NMRLIPIDS metadata\n",
    "nsims =0 # Counter number of simulations in a submission\n",
    "sims = [] #Array with the dictionary containing the information of a simulation\n",
    "\n",
    "for line in user_information.split(\"\\n\"):\n",
    "    if line.strip() == \"\":\n",
    "        continue\n",
    "    if \"#NMRLIPIDS BEGIN\" in line:\n",
    "        bNMRLIPIDS = True\n",
    "        continue\n",
    "    if \"#NMRLIPIDS END\" in line:\n",
    "        bNMRLIPIDS = False\n",
    "        continue\n",
    "    if \"@SIM\" in line:\n",
    "        #sims.append({\"ID\" : nsims, \"STATUS\" : 0})\n",
    "        sims.append({\"ID\" : nsims})\n",
    "        nsims += 1\n",
    "        sims[-1][\"DOI\"] = DOI\n",
    "        continue\n",
    "    if not bNMRLIPIDS:\n",
    "        continue\n",
    "    if line.strip()[0] == \"@\":\n",
    "        key, value = line.split(\"=\")\n",
    "        sims[-1][key.strip('@')] = value\n",
    "print(nsims)\n",
    "print(sims)\n"
   ]
  },
  {
   "cell_type": "markdown",
   "metadata": {},
   "source": [
    "### Dictionares"
   ]
  },
  {
   "cell_type": "code",
   "execution_count": 15,
   "metadata": {},
   "outputs": [
    {
     "name": "stdout",
     "output_type": "stream",
     "text": [
      "dict_keys(['GROMACS', 'AMBER', 'NAMD', 'CHARMM', 'OPENMM'])\n"
     ]
    }
   ],
   "source": [
    "#Molecules dictionary\n",
    "\n",
    "lipids_dict = {\n",
    "                'POPC' : {\"REQUIRED\": False,\n",
    "                             \"TYPE\": \"string\",\n",
    "                         },\n",
    "                'POPG' : {\"REQUIRED\": False,\n",
    "                            \"TYPE\" : \"string\",\n",
    "                        },\n",
    "                'POPS' : {\"REQUIRED\": False,\n",
    "                            \"TYPE\" : \"string\",\n",
    "                        },\n",
    "                'POPE' : {\"REQUIRED\": False,\n",
    "                            \"TYPE\" : \"string\",\n",
    "                        },\n",
    "                }\n",
    "\n",
    "molecules_dict = {\n",
    "                \n",
    "                'POT' : {\"REQUIRED\": False,\n",
    "                            \"TYPE\" : \"string\",\n",
    "                        },\n",
    "                'SOD' : {\"REQUIRED\": False,\n",
    "                            \"TYPE\" : \"string\",\n",
    "                        },\n",
    "                'CLA' : {\"REQUIRED\": False,\n",
    "                            \"TYPE\" : \"string\",\n",
    "                        },\n",
    "                'CAL' : {\"REQUIRED\": False,\n",
    "                            \"TYPE\" : \"string\",\n",
    "                        },\n",
    "                'SOL' : {\"REQUIRED\": False,\n",
    "                            \"TYPE\" : \"string\",\n",
    "                        },\n",
    "                }\n",
    "\n",
    "\n",
    "               \n",
    "molecule_numbers_dict = {\n",
    "                'NPOPC' : {\"REQUIRED\": False,\n",
    "                              \"TYPE\": \"array\",\n",
    "                          },\n",
    "                'NPOPG' : {\"REQUIRED\": False,\n",
    "                            \"TYPE\" : \"array\",\n",
    "                         },\n",
    "                'NPOPS' : {\"REQUIRED\": False,\n",
    "                            \"TYPE\" : \"array\",\n",
    "                        },\n",
    "                'NPOPE' : {\"REQUIRED\": False,\n",
    "                            \"TYPE\" : \"array\",\n",
    "                        },\n",
    "    \n",
    "               'NPOT' : {\"REQUIRED\": False,\n",
    "                            \"TYPE\" : \"integer\",\n",
    "                        },\n",
    "                'NSOD' : {\"REQUIRED\": False,\n",
    "                            \"TYPE\" : \"integer\",\n",
    "                        },\n",
    "                'NCLA' : {\"REQUIRED\": False,\n",
    "                            \"TYPE\" : \"integer\",\n",
    "                        },\n",
    "                'NCAL' : {\"REQUIRED\": False,\n",
    "                             \"TYPE\" : \"integer\",\n",
    "                         },\n",
    "                'NSOL' : {\"REQIRED\": False,\n",
    "                            \"TYPE\" : \"integer\",\n",
    "                        },\n",
    "    \n",
    "                }\n",
    "               \n",
    "                \n",
    "                \n",
    "\n",
    "# Gromacs\n",
    "gromacs_dict = {\n",
    "               'INI' : {\"REQUIRED\": False,\n",
    "                        \"TYPE\" : \"files\",\n",
    "                        \"EXTENSION\" : (\"gro\", \"pdb\",),\n",
    "                       }, # Could be not needed in the future (tpr)\n",
    "               'MDP' : {\"REQUIRED\": False,\n",
    "                        \"TYPE\" : \"file\",\n",
    "                        \"EXTENSION\" : (\"mdp\",),\n",
    "                       }, # Could be not needed in the future (tpr)\n",
    "               'TRJ' : {\"REQUIRED\": True,\n",
    "                        \"TYPE\" : \"files\",\n",
    "                        \"EXTENSION\" : (\"xtc\",\"trr\",),\n",
    "                       },\n",
    "               'TPR' : {\"REQUIRED\": True,\n",
    "                        \"TYPE\" : \"file\",\n",
    "                        \"EXTENSION\" : (\"tpr\",),\n",
    "                       },\n",
    "               'CPT' : {\"REQUIRED\": False,\n",
    "                        \"TYPE\" : \"file\",\n",
    "                        \"EXTENSION\" : (\"cpt\",),\n",
    "                       },\n",
    "               'TOP' : {\"REQUIRED\": False,\n",
    "                        \"TYPE\" : \"file\",\n",
    "                        \"EXTENSION\" : (\"top\",),\n",
    "                       },\n",
    "               'ITP' : {\"REQUIRED\": False,\n",
    "                        \"TYPE\" : \"files\",\n",
    "                        \"EXTENSION\" : (\"itp\",),\n",
    "                       },\n",
    "               'FF'  : {\"REQUIRED\": False,\n",
    "                        \"TYPE\" : \"string\",\n",
    "                       },\n",
    "               'FF_SOURCE' : {\"REQUIRED\": False,\n",
    "                              \"TYPE\" : \"string\",\n",
    "                              },\n",
    "               'FF_DATE' : {\"REQUIRED\": False,\n",
    "                            \"TYPE\" : \"date\",\n",
    "                           },\n",
    "               'DOI' : {\"REQUIRED\": True,\n",
    "                            \"TYPE\" : \"string\",\n",
    "                           },\n",
    "    \n",
    "               'SYSTEM' : {\"REQUIRED\": True,\n",
    "                            \"TYPE\" : \"string\",\n",
    "                           },\n",
    "            'TEMPERATURE' : {\"REQUIRED\": False,\n",
    "                            \"TYPE\" : \"integer\",\n",
    "                            },\n",
    "             'TRJLENGTH' : {\"REQUIRED\": False,\n",
    "                           \"TYPE\" : \"integer\",\n",
    "                           },\n",
    "            'PREEQTIME' : {\"REQUIRED\": False,\n",
    "                          \"TYPE\" : \"integer\",\n",
    "                          },\n",
    "            'MAPPING' : {\"REQUIRED\": True,\n",
    "                             \"TYPE\" : \"string\",\n",
    " #                        \"EXTENSION\": (\"txt\"),\n",
    "                             },\n",
    "              \n",
    "               }\n",
    "\n",
    "# Amber\n",
    "amber_dict = {}\n",
    "\n",
    "# NAMD\n",
    "namd_dict = {   \n",
    "            'TRJ' : { \"REQUIRED\": True,\n",
    "                      \"TYPE\": \"files\",\n",
    "                      \"EXTENSION\": (\"dcd\"),\n",
    "                    },\n",
    "            'INP' : { \"REQUIRED\": False,\n",
    "                      \"TYPE\": \"file\",\n",
    "                      \"EXTENSION\": (\".inp\"),\n",
    "                    },\n",
    "            'LOG' : { \"REQUIRED\": False,\n",
    "                      \"TYPE\": \"files\",\n",
    "                      \"EXTENSION\": (\"log\"),\n",
    "                      # can be parsed to get software version etc.\n",
    "                    },\n",
    "            'PSF' : { \"REQUIRED\": False,\n",
    "                      \"TYPE\": \"file\",\n",
    "                      \"EXTENSION\": (\"psf\"),\n",
    "                    },\n",
    "            'FF'  :  { \"REQUIRED\": False,\n",
    "                      \"TYPE\" : \"string\",\n",
    "                    },\n",
    "            'FF_SOURCE' : {\"REQUIRED\": False,\n",
    "                           \"TYPE\" : \"string\",\n",
    "                              },\n",
    "            'FF_DATE' : {\"REQUIRED\": False,\n",
    "                         \"TYPE\" : \"date\",\n",
    "                        },\n",
    "            'PDB'  : { \"REQUIRED\": True,\n",
    "                    \"TYPE\": \"file\",\n",
    "                    \"EXTENSION\": \"pdb\",}\n",
    "               }\n",
    "          \n",
    "# CHARMM\n",
    "charmm_dict = {}\n",
    "\n",
    "# OPENMM\n",
    "openmm_dict = {\n",
    "               'INI' : {\"REQUIRED\": False,\n",
    "                        \"TYPE\" : \"files\",\n",
    "                        \"EXTENSION\" : (\"gro\", \"pdb\",),\n",
    "                       }, # Could be not needed in the future (tpr)\n",
    "               'TRJ' : {\"REQUIRED\": True,\n",
    "                        \"TYPE\" : \"files\",\n",
    "                        \"EXTENSION\" : (\"xtc\",\"trr\",\"dcd\"),\n",
    "                       },\n",
    "               'FF'  : {\"REQUIRED\": False,\n",
    "                        \"TYPE\" : \"string\",\n",
    "                       },\n",
    "               'FF_SOURCE' : {\"REQUIRED\": False,\n",
    "                              \"TYPE\" : \"string\",\n",
    "                              },\n",
    "               'FF_DATE' : {\"REQUIRED\": False,\n",
    "                            \"TYPE\" : \"date\",\n",
    "                           },\n",
    "               'DOI' : {\"REQUIRED\": True,\n",
    "                            \"TYPE\" : \"string\",\n",
    "                           },\n",
    "    \n",
    "               'SYSTEM' : {\"REQUIRED\": True,\n",
    "                            \"TYPE\" : \"string\",\n",
    "                           },\n",
    "            'TEMPERATURE' : {\"REQUIRED\": False,\n",
    "                            \"TYPE\" : \"integer\",\n",
    "                            },\n",
    "             'TRJLENGTH' : {\"REQUIRED\": False,\n",
    "                           \"TYPE\" : \"integer\",\n",
    "                           },\n",
    "            'PREEQTIME' : {\"REQUIRED\": False,\n",
    "                          \"TYPE\" : \"integer\",\n",
    "                          },\n",
    "            'MAPPING' : {\"REQUIRED\": True,\n",
    "                             \"TYPE\" : \"string\",\n",
    " #                        \"EXTENSION\": (\"txt\"),\n",
    "                             },\n",
    "                'PDB'  : { \"REQUIRED\": True,\n",
    "                    \"TYPE\": \"file\",\n",
    "                    \"EXTENSION\": \"pdb\",}             \n",
    "               }\n",
    "\n",
    "# SOFTWARE\n",
    "software_dict = {\n",
    "                \"GROMACS\" : gromacs_dict, \n",
    "                \"AMBER\"   : amber_dict,\n",
    "                \"NAMD\"    : namd_dict,\n",
    "                \"CHARMM\"  : charmm_dict,\n",
    "                \"OPENMM\"  : openmm_dict,\n",
    "                }\n",
    "\n",
    "print(software_dict.keys())"
   ]
  },
  {
   "cell_type": "markdown",
   "metadata": {},
   "source": [
    "### Check software used by the simulation"
   ]
  },
  {
   "cell_type": "code",
   "execution_count": 16,
   "metadata": {},
   "outputs": [
    {
     "name": "stdout",
     "output_type": "stream",
     "text": [
      "Simulation 0 uses supported software OPENMM and will be further processed\n"
     ]
    }
   ],
   "source": [
    "sims_valid_software = []\n",
    "for sim in sims:\n",
    "    if sim['SOFTWARE'].upper() in software_dict.keys():\n",
    "        msg_info = \"Simulation {0} uses supported software {1} and will be further processed\"\n",
    "        print (msg_info.format(sim['ID'], sim['SOFTWARE'].upper()))\n",
    "        sims_valid_software.append(sim.copy())\n",
    "    else:\n",
    "        msg_err=\"Simulation {0} performed in an UNSUPPORTED software {1} and will NOT be further processed\"\n",
    "        print(msg_err.format(sim[\"ID\"], sim[\"SOFTWARE\"].upper()))\n",
    "#print(sims_valid_software) "
   ]
  },
  {
   "cell_type": "markdown",
   "metadata": {},
   "source": [
    "### Check that all entry keys provided for each simulation are valid:"
   ]
  },
  {
   "cell_type": "code",
   "execution_count": 17,
   "metadata": {},
   "outputs": [
    {
     "name": "stdout",
     "output_type": "stream",
     "text": [
      "dict_items([('ID', 0), ('DOI', '10.5281/zenodo.3994138'), ('MAPPING', 'POPC,mappingPOPCcharmm.txt'), ('SYSTEM', 'POPC_303K_350mM_NaCl_drude'), ('SOFTWARE', 'openmm'), ('FF', 'CHARMM_DRUDE'), ('FF_SOURCE', 'CHARMM-GUI'), ('FF_DATE', '??'), ('TRJ', 'traj_centered_100ps.dcd'), ('TPR', 'step2_charmm2omm.pdb'), ('PDB', 'step2_charmm2omm.pdb'), ('PREEQTIME', '0'), ('POPC', 'POPC'), ('POT', 'M_K_M'), ('SOD', 'M_NA_M'), ('CLA', 'M_CL_M'), ('CAL', 'M_CA_M'), ('SOL', 'M_SOL_M'), ('NPOPC', '[72,72]'), ('NPOPG', '[0,0]'), ('NPOPS', '[0,0]'), ('NPOPE', '[0,0]'), ('NPOT', '0'), ('NSOD', '41'), ('NCLA', '41'), ('NCAL', '0'), ('NSOL', '6400'), ('TEMPERATURE', '303'), ('TRJLENGTH', '500')])\n",
      "All entries in simulation 0 are understood and will be further processed\n",
      "\n"
     ]
    }
   ],
   "source": [
    "sims_valid_entries = []\n",
    "for sim in sims_valid_software:\n",
    "    #print(\"ID {0}\".format(sim[\"ID\"]))\n",
    "    wrong_key_entries = 0\n",
    "    software_dict_name = \"{0}_dict\".format(sim['SOFTWARE'].lower())\n",
    "    print(sim.items())\n",
    "    for key_sim, value_sim in sim.items():\n",
    "        #print(key_sim, value_sim)\n",
    "        #print(key_sim.upper())\n",
    "        if key_sim.upper() in (\"ID\", \"SOFTWARE\"):\n",
    "            #print(\"NOT REQUIRED\")\n",
    "            continue\n",
    "    #Anne: check if key is in molecules_dict or molecule_numbers_dict too\n",
    "        if key_sim.upper() not in software_dict[sim['SOFTWARE'].upper()].keys() and key_sim.upper() not in molecules_dict.keys() and key_sim.upper() not in lipids_dict.keys() and key_sim.upper() not in molecule_numbers_dict:\n",
    "            print (\"{0} NOT in {1}\".format(key_sim, software_dict_name))\n",
    "            wrong_key_entries += 1\n",
    "    if wrong_key_entries:\n",
    "        print(\"Simulation {0} has {1} unknown entry/ies and won't be longer considered, please correct.\\n\".format(sim['ID'],wrong_key_entries))\n",
    "    else:\n",
    "        msg_info = \"All entries in simulation {0} are understood and will be further processed\\n\"\n",
    "        print (msg_info.format(sim['ID']))\n",
    "        sims_valid_entries.append(sim.copy())\n",
    "#print(sims_valid_entries)"
   ]
  },
  {
   "cell_type": "markdown",
   "metadata": {},
   "source": [
    "### Process entries with files information to contain file names in arrays"
   ]
  },
  {
   "cell_type": "code",
   "execution_count": 18,
   "metadata": {},
   "outputs": [
    {
     "name": "stdout",
     "output_type": "stream",
     "text": [
      "ID 0\n",
      "traj_centered_100ps.dcd added to list\n",
      "step2_charmm2omm.pdb added to list\n",
      "step2_charmm2omm.pdb added to list\n"
     ]
    }
   ],
   "source": [
    "sims_files_to_array = deepcopy(sims_valid_entries)\n",
    "\n",
    "for sim in sims_files_to_array:\n",
    "    print(\"ID {0}\".format(sim[\"ID\"]), flush=True)\n",
    "    software_sim = software_dict[sim['SOFTWARE'].upper()]\n",
    "    for key_sim, value_sim in sim.items():\n",
    "        try:\n",
    "            entry_type = software_sim[key_sim]['TYPE']\n",
    "            if \"file\" in entry_type:\n",
    "                if isinstance(value_sim, list): continue  \n",
    "                files_list = []\n",
    "                print(\"{0} added to list\".format(value_sim))\n",
    "                # Place filenames into arrays\n",
    "                for file_provided in value_sim.split(\";\"):\n",
    "                    files_list.append([file_provided.strip()])\n",
    "                sim[key_sim] = files_list\n",
    "        except: #It is notmal that fails for \"ID\" and \"SOFTWARE\"\n",
    "            continue\n",
    "#print(sims_files_to_array)\n",
    "#print(sims_valid_entries)"
   ]
  },
  {
   "cell_type": "markdown",
   "metadata": {},
   "source": [
    "### Check for multiple files in entries that can only contain one"
   ]
  },
  {
   "cell_type": "code",
   "execution_count": 19,
   "metadata": {},
   "outputs": [
    {
     "name": "stdout",
     "output_type": "stream",
     "text": [
      "ID 0\n"
     ]
    }
   ],
   "source": [
    "sims_valid_file_entries = []\n",
    "for sim in sims_files_to_array:\n",
    "    print(\"ID {0}\".format(sim[\"ID\"]), flush=True)\n",
    "    files_issues = 0\n",
    "    software_sim = software_dict[sim['SOFTWARE'].upper()]\n",
    "    for key_sim, value_sim in sim.items():\n",
    "        try:\n",
    "            entry_type = software_sim[key_sim]['TYPE']\n",
    "            if entry_type == \"file\"  and len(value_sim) > 1:\n",
    "                print(\"Multiple values found in {0} and only one allowed (Please correct):\\n {1}\".format(key_sim,value_sim))\n",
    "                files_issues += 1\n",
    "        except: #It is notmal that fails for \"ID\" and \"SOFTWARE\"\n",
    "            continue\n",
    "    if files_issues:\n",
    "        print(\"Sim {0} will be no longer processed\".format(sim[\"ID\"]))\n",
    "    else:\n",
    "        sims_valid_file_entries.append(sim.copy())\n",
    "#print(sims_valid_file_entries)"
   ]
  },
  {
   "cell_type": "markdown",
   "metadata": {},
   "source": [
    "### Check if the submitted simulation has rssion has all required files and information"
   ]
  },
  {
   "cell_type": "code",
   "execution_count": 20,
   "metadata": {},
   "outputs": [
    {
     "name": "stdout",
     "output_type": "stream",
     "text": [
      "ID 0\n",
      "All required entries present.\n",
      "\n"
     ]
    }
   ],
   "source": [
    "sims_required_entries = []\n",
    "for sim in sims_valid_file_entries:\n",
    "    print(\"ID {0}\".format(sim[\"ID\"]))\n",
    "    missing_required_keys = 0\n",
    "    for key, value in software_dict[sim['SOFTWARE'].upper()].items():\n",
    "        if value[\"REQUIRED\"]:\n",
    "            try:\n",
    "                sim[key]\n",
    "            except:\n",
    "                print(\"Entry not found: {0} {1}\".format(key, value))\n",
    "                missing_required_keys += 1\n",
    "    if missing_required_keys:\n",
    "        print(\"{0} missing required entry/ies, please correct.\".format(missing_required_keys))\n",
    "        print(\"Entry with ID={0} will not be further processed.\\n\".format(sim[\"ID\"]))\n",
    "    else:\n",
    "        print(\"All required entries present.\\n\")\n",
    "        sims_required_entries.append(sim.copy())"
   ]
  },
  {
   "cell_type": "markdown",
   "metadata": {},
   "source": [
    "### Check status links"
   ]
  },
  {
   "cell_type": "code",
   "execution_count": 21,
   "metadata": {},
   "outputs": [],
   "source": [
    "# Download link\n",
    "def download_link(doi, file):\n",
    "    if \"zenodo\" in doi.lower():\n",
    "        zenodo_entry_number = doi.split(\".\")[2]\n",
    "        return 'https://zenodo.org/record/' + zenodo_entry_number + '/files/' + file\n",
    "    else:\n",
    "        print (\"DOI provided: {0}\".format(doi))\n",
    "        print (\"Repository not validated. Please upload the data for example to zenodo.org\")\n",
    "        return \"\""
   ]
  },
  {
   "cell_type": "code",
   "execution_count": 22,
   "metadata": {},
   "outputs": [
    {
     "name": "stdout",
     "output_type": "stream",
     "text": [
      "ID 0\n",
      "All links work.\n",
      "\n"
     ]
    }
   ],
   "source": [
    "#print(sims_required_entries)\n",
    "sims_working_links = []         \n",
    "for sim in sims_required_entries:\n",
    "    print(\"ID {0}\".format(sim[\"ID\"]))\n",
    "    wrong_links = 0\n",
    "    software_sim = software_dict[sim['SOFTWARE'].upper()]\n",
    "    for key_sim, value_sim in sim.items():\n",
    "        #print(\"key_sim = {0} => value_sim = {1}\".format(key_sim, value_sim))\n",
    "        try:\n",
    "            entry_type = software_sim[key_sim]['TYPE']\n",
    "            extension_type = software_sim[key_sim]['EXTENSION']\n",
    "            #print(\"entry_type = {0}\".format(entry_type))\n",
    "            if \"file\" in entry_type and \"txt\" not in extension_type:\n",
    "                for file_provided in value_sim:\n",
    "                    #print(\"File={0}\".format(file_provided[0]))\n",
    "                    file_url = download_link(DOI, file_provided[0])\n",
    "                    if file_url == \"\":\n",
    "                        \n",
    "                        wrong_links += 1\n",
    "                        continue\n",
    "                    try:\n",
    "                        if key_sim == 'INI':\n",
    "                            continue\n",
    "                        response = urllib.request.urlopen(file_url)\n",
    "                        #print(\"Status of the DOI link: {0}\".format(response.msg))\n",
    "                    except HTTPError as e:\n",
    "                        print(\"\\nkey={0} => file={1}\".format(key_sim, file_provided[0]))\n",
    "                        print(file_url)\n",
    "                        print('The server couldn\\'t fulfill the request.')\n",
    "                        print('Error code: ', e.code)\n",
    "                        wrong_links += 1\n",
    "                    except URLError as e:\n",
    "                        print(key_sim, file_provided[0])\n",
    "                        print(file_url)\n",
    "                        print('We failed to reach a server.')\n",
    "                        print('Reason: ', e.reason)\n",
    "                        wrong_links += 1\n",
    "                    else:\n",
    "                        pass\n",
    "        except: #It is notmal that fails for \"ID\" and \"SOFTWARE\"\n",
    "            continue\n",
    "    if wrong_links:\n",
    "        print(\"{0} link/s failed, please correct.\".format(wrong_links))\n",
    "        print(\"Sim={0} will not be further processed.\\n\".format(sim[\"ID\"]))\n",
    "    else:\n",
    "        print(\"All links work.\\n\")\n",
    "        sims_working_links.append(sim.copy())\n",
    "#print(sims_working_links)"
   ]
  },
  {
   "cell_type": "markdown",
   "metadata": {},
   "source": [
    "## Download files from links"
   ]
  },
  {
   "cell_type": "code",
   "execution_count": 23,
   "metadata": {},
   "outputs": [
    {
     "name": "stdout",
     "output_type": "stream",
     "text": [
      "ID 0\n"
     ]
    },
    {
     "name": "stderr",
     "output_type": "stream",
     "text": [
      "TRJ: 100%|██████████| 1/1 [00:00<00:00, 6241.52it/s]\n",
      "TPR: 100%|██████████| 1/1 [00:00<00:00, 5203.85it/s]\n",
      "PDB: 100%|██████████| 1/1 [00:00<00:00, 3054.85it/s]\n"
     ]
    }
   ],
   "source": [
    "# Create temporary directory where to download files and analyze them\n",
    "dir_tmp = os.path.join(dir_wrk, \"tmp/\")\n",
    "if (not os.path.isdir(dir_tmp)): os.mkdir(dir_tmp)\n",
    "\n",
    "for sim in sims_working_links:\n",
    "    print(\"ID {0}\".format(sim[\"ID\"]), flush=True)\n",
    "    software_sim = software_dict[sim['SOFTWARE'].upper()]\n",
    "    dir_sim = os.path.join(dir_tmp, str(sim[\"ID\"]))\n",
    "    if (not os.path.isdir(dir_sim)): os.mkdir(dir_sim)\n",
    "    for key_sim, value_sim in sim.items():\n",
    "        #print(\"key_sim = {0} => value_sim = {1}\".format(key_sim, value_sim))\n",
    "        try:\n",
    "            entry_type = software_sim[key_sim]['TYPE']\n",
    "            extension_type = software_sim[key_sim]['EXTENSION']\n",
    "            #print(\"entry_type = {0}\".format(entry_type))\n",
    "            if \"file\" in entry_type and \"txt\" not in extension_type:\n",
    "                for file_provided in tqdm(value_sim, desc = key_sim):\n",
    "                    file_url = download_link(DOI, file_provided[0])\n",
    "                    file_name = os.path.join(dir_sim, file_provided[0])\n",
    "                    if (not os.path.isfile(file_name)):\n",
    "                        response = urllib.request.urlretrieve(file_url, file_name)\n",
    "        except: #It is normal that fails for \"ID\" and \"SOFTWARE\"\n",
    "            continue\n",
    "            "
   ]
  },
  {
   "cell_type": "markdown",
   "metadata": {},
   "source": [
    "## Calculate hash downloaded files"
   ]
  },
  {
   "cell_type": "code",
   "execution_count": 24,
   "metadata": {},
   "outputs": [
    {
     "name": "stdout",
     "output_type": "stream",
     "text": [
      "ID 0\n",
      "                      NAME TYPE REQUIRED                                      HASH\n",
      "0  traj_centered_100ps.dcd  TRJ     True  0bf1e9cac5686a0d1c8025b7710e2eede37a0c08\n",
      "1     step2_charmm2omm.pdb  TPR     True  8ced974036b91b9375c4768f2b6dd13e0e70dac8\n",
      "2     step2_charmm2omm.pdb  PDB     True  8ced974036b91b9375c4768f2b6dd13e0e70dac8\n",
      "\n",
      "['0bf1e9cac5686a0d1c8025b7710e2eede37a0c08', '8ced974036b91b9375c4768f2b6dd13e0e70dac8', '8ced974036b91b9375c4768f2b6dd13e0e70dac8']\n",
      "\n",
      "[{'ID': 0, 'DOI': '10.5281/zenodo.3994138', 'MAPPING': 'POPC,mappingPOPCcharmm.txt', 'SYSTEM': 'POPC_303K_350mM_NaCl_drude', 'SOFTWARE': 'openmm', 'FF': 'CHARMM_DRUDE', 'FF_SOURCE': 'CHARMM-GUI', 'FF_DATE': '??', 'TRJ': [['traj_centered_100ps.dcd', '0bf1e9cac5686a0d1c8025b7710e2eede37a0c08']], 'TPR': [['step2_charmm2omm.pdb', '8ced974036b91b9375c4768f2b6dd13e0e70dac8']], 'PDB': [['step2_charmm2omm.pdb', '8ced974036b91b9375c4768f2b6dd13e0e70dac8']], 'PREEQTIME': '0', 'POPC': 'POPC', 'POT': 'M_K_M', 'SOD': 'M_NA_M', 'CLA': 'M_CL_M', 'CAL': 'M_CA_M', 'SOL': 'M_SOL_M', 'NPOPC': '[72,72]', 'NPOPG': '[0,0]', 'NPOPS': '[0,0]', 'NPOPE': '[0,0]', 'NPOT': '0', 'NSOD': '41', 'NCLA': '41', 'NCAL': '0', 'NSOL': '6400', 'TEMPERATURE': '303', 'TRJLENGTH': '500'}]\n"
     ]
    }
   ],
   "source": [
    "dir_tmp = os.path.join(dir_wrk, \"tmp/\")\n",
    "sims_hashes = deepcopy(sims_working_links)\n",
    "\n",
    "for sim in sims_hashes:\n",
    "    print(\"ID {0}\".format(sim[\"ID\"]), flush=True)\n",
    "    software_sim = software_dict[sim['SOFTWARE'].upper()]\n",
    "    dir_sim = os.path.join(dir_tmp, str(sim[\"ID\"]))\n",
    "    \n",
    "    #list_containing the sha1 sums for all required files\n",
    "    sha1_list_requied = []\n",
    "    \n",
    "    # Make empty dataframe with the desired columns\n",
    "    df_files = pd.DataFrame(columns=['NAME','TYPE','REQUIRED','HASH'])\n",
    "    \n",
    "    for key_sim, value_sim in sim.items():\n",
    "        #print(\"key_sim = {0} => value_sim = {1}\".format(key_sim, value_sim))\n",
    "        try:\n",
    "            entry_type = software_sim[key_sim]['TYPE']\n",
    "            #print(\"entry_type = {0}\".format(entry_type))\n",
    "            if \"file\" in entry_type:\n",
    "                files_list = []\n",
    "                for file_provided in value_sim:\n",
    "                    file_name = os.path.join(dir_sim, file_provided[0])\n",
    "                    sha1_hash = hashlib.sha1()\n",
    "                    with open(file_name,\"rb\") as f:\n",
    "                        # Read and update hash string value in blocks of 4K\n",
    "                        for byte_block in iter(lambda: f.read(4096),b\"\"):\n",
    "                            sha1_hash.update(byte_block)\n",
    "                        #print(file_provided, sha256_hash.hexdigest())\n",
    "                        df_files = df_files.append({\n",
    "                            \"NAME\":file_provided[0],\n",
    "                            \"TYPE\":key_sim,\n",
    "                            \"REQUIRED\": software_dict[sim['SOFTWARE'].upper()][key_sim]['REQUIRED'],\n",
    "                            \"HASH\":sha1_hash.hexdigest(),\n",
    "                        }, ignore_index=True)\n",
    "                    files_list.append([file_provided[0], sha1_hash.hexdigest()])\n",
    "                #Find the keys of the required files to calculate the master_hash \n",
    "                if software_dict[sim['SOFTWARE'].upper()][key_sim]['REQUIRED'] == True:\n",
    "                    sha1_list_requied.append(sha1_hash.hexdigest())\n",
    "                sim[key_sim] = files_list #Problematic\n",
    "        except: #It is notmal that fails for \"ID\" and \"SOFTWARE\"\n",
    "            continue\n",
    "    print(df_files)\n",
    "    print(\"\\n{0}\\n\".format(sha1_list_requied))      \n",
    "    # Calculate the hash of a file contaning the hashes of each of the required files\n",
    "    # This should be always invariant as it will be used unique identifier for a simualtion\n",
    "    # Note order the hashes of the required files before calculating the hash (That means that the required files cannot change)\n",
    "print(sims_hashes)"
   ]
  },
  {
   "cell_type": "code",
   "execution_count": 25,
   "metadata": {
    "scrolled": true
   },
   "outputs": [
    {
     "data": {
      "text/plain": [
       "\"[{'ID': 0, 'DOI': '10.5281/zenodo.3994138', 'MAPPING': 'POPC,mappingPOPCcharmm.txt', 'SYSTEM': 'POPC_303K_350mM_NaCl_drude', 'SOFTWARE': 'openmm', 'FF': 'CHARMM_DRUDE', 'FF_SOURCE': 'CHARMM-GUI', 'FF_DATE': '??', 'TRJ': [['traj_centered_100ps.dcd']], 'TPR': [['step2_charmm2omm.pdb']], 'PDB': [['step2_charmm2omm.pdb']], 'PREEQTIME': '0', 'POPC': 'POPC', 'POT': 'M_K_M', 'SOD': 'M_NA_M', 'CLA': 'M_CL_M', 'CAL': 'M_CA_M', 'SOL': 'M_SOL_M', 'NPOPC': '[72,72]', 'NPOPG': '[0,0]', 'NPOPS': '[0,0]', 'NPOPE': '[0,0]', 'NPOT': '0', 'NSOD': '41', 'NCLA': '41', 'NCAL': '0', 'NSOL': '6400', 'TEMPERATURE': '303', 'TRJLENGTH': '500'}]\""
      ]
     },
     "execution_count": 25,
     "metadata": {},
     "output_type": "execute_result"
    }
   ],
   "source": [
    "str(sims_working_links)"
   ]
  },
  {
   "cell_type": "markdown",
   "metadata": {},
   "source": [
    "## Make a dictionary of mapping files and save it in the simulation dictionary"
   ]
  },
  {
   "cell_type": "code",
   "execution_count": 32,
   "metadata": {},
   "outputs": [
    {
     "name": "stdout",
     "output_type": "stream",
     "text": [
      "0\n",
      "POPC\n",
      "{'POPC': 'mappingPOPCcharmm.txt'}\n",
      "{'ID': 0, 'DOI': '10.5281/zenodo.3994138', 'MAPPING': 'POPC,mappingPOPCcharmm.txt', 'SYSTEM': 'POPC_303K_350mM_NaCl_drude', 'SOFTWARE': 'openmm', 'FF': 'CHARMM_DRUDE', 'FF_SOURCE': 'CHARMM-GUI', 'FF_DATE': '??', 'TRJ': [['traj_centered_100ps.dcd']], 'TPR': [['step2_charmm2omm.pdb']], 'PDB': [['step2_charmm2omm.pdb']], 'PREEQTIME': '0', 'POPC': 'POPC', 'POT': 'M_K_M', 'SOD': 'M_NA_M', 'CLA': 'M_CL_M', 'CAL': 'M_CA_M', 'SOL': 'M_SOL_M', 'NPOPC': '[72,72]', 'NPOPG': '[0,0]', 'NPOPS': '[0,0]', 'NPOPE': '[0,0]', 'NPOT': '0', 'NSOD': '41', 'NCLA': '41', 'NCAL': '0', 'NSOL': '6400', 'TEMPERATURE': '303', 'TRJLENGTH': '500', 'MAPPING_DICT': {'POPC': 'mappingPOPCcharmm.txt'}}\n"
     ]
    }
   ],
   "source": [
    "mapping = sim['MAPPING'].split(',')\n",
    "mapping_dict = {}\n",
    "\n",
    "for i in range(0, int(len(mapping)/2)):\n",
    "    lipid = mapping[2*i]\n",
    "    print(i)\n",
    "    print(lipid)\n",
    "    path = mapping[2*i+1]\n",
    "    mapping_dict[lipid]=path\n",
    "\n",
    "#print(mapping_dict)\n",
    "\n",
    "sim['MAPPING_DICT'] = mapping_dict\n",
    "\n",
    "print(sim['MAPPING_DICT'])\n",
    "print(sim)"
   ]
  },
  {
   "cell_type": "markdown",
   "metadata": {},
   "source": [
    "## Read molecule numbers into dictionary"
   ]
  },
  {
   "cell_type": "code",
   "execution_count": 33,
   "metadata": {},
   "outputs": [
    {
     "name": "stdout",
     "output_type": "stream",
     "text": [
      "{'POPC': 'mappingPOPCcharmm.txt'}\n"
     ]
    }
   ],
   "source": [
    "print(sim['MAPPING_DICT'])"
   ]
  },
  {
   "cell_type": "code",
   "execution_count": null,
   "metadata": {},
   "outputs": [],
   "source": [
    "#Anne:Read molecule numbers from tpr or gro file.\n",
    "import MDAnalysis\n",
    "from MDAnalysis import Universe\n",
    "    \n",
    "for sim in sims_working_links :\n",
    "    ID = sim.get('ID')\n",
    "    tpr = str(dir_wrk)+ '/tmp/' + str(ID) + '/' + str(sim.get('TPR')).translate({ord(c): None for c in \"'][\"})\n",
    "    trj = str(dir_wrk)+ '/tmp/' + str(ID) + '/' + str(sim.get('TRJ')).translate({ord(c): None for c in \"'][\"})\n",
    "    gro = str(dir_wrk)+ '/tmp/' + str(ID) + '/conf.gro'\n",
    "    print(gro)\n",
    "    \n",
    " #   if str(sim.get('INI')).translate({ord(c): None for c in \"'][\"}) != '':\n",
    " #       gro = str(sim.get('INI')).translate({ord(c): None for c in \"'][\"})\n",
    " #       gro_path = str(dir_wrk) + '/tmp/' + str(ID) + '/' + gro\n",
    "\n",
    "  #  else:\n",
    "    !echo System | gmx trjconv -f {trj} -s {tpr} -dump 0 -o {gro}\n",
    "    gro_path = str(dir_wrk) + '/tmp/' + str(ID) + '/' + 'conf.gro'\n",
    "    \n",
    "    \n",
    "    \n",
    "    leaflet1 = 0 #total number of lipids in upper leaflet\n",
    "    leaflet2 = 0 #total number of lipids in lower leaflet\n",
    "    \n",
    "    u = Universe(gro_path)\n",
    "\n",
    "    lipids = []\n",
    "    \n",
    "    for key_mol in lipids_dict:\n",
    "        molecules = u.select_atoms(\"resname \" + key_mol)\n",
    "        \n",
    "        if molecules.n_residues > 0:\n",
    "            lipids.append(key_mol)\n",
    "            \n",
    "    membrane = \" \".join(str(x) for x in lipids)\n",
    "    \n",
    "    R_membrane_z = u.select_atoms(\"resname \" + membrane).center_of_mass()[2]\n",
    "    \n",
    "#number of each lipid per leaflet\n",
    "        \n",
    "    for key_mol in lipids_dict:\n",
    "        molecules = u.select_atoms(\"resname \" + key_mol).residues\n",
    "        leaflet1 = 0 \n",
    "        leaflet2 = 0 \n",
    "        \n",
    "        x = 'N' + key_mol\n",
    "        \n",
    "        if molecules.n_residues > 0:\n",
    "            \n",
    "            for mol in molecules:\n",
    "                R = mol.atoms.center_of_mass()\n",
    "                \n",
    "                if R[2] - R_membrane_z > 0:\n",
    "                    leaflet1 = leaflet1 + 1\n",
    "                   # print('layer1  ' + str(leaflet1))\n",
    "                elif R[2] - R_membrane_z < 0:\n",
    "                    leaflet2 = leaflet2 +1\n",
    "                   # print('layer2  ' + str(leaflet2))\n",
    "                    \n",
    "        sim[x] = [leaflet1, leaflet2] \n",
    "#print(\"upper leaflet: \" + str(leaflet1))\n",
    "#print(\"lower leaflet: \" + str(leaflet2))\n",
    "\n",
    "###########################################################################################        \n",
    "#numbers of other molecules\n",
    "    mapping_files = []\n",
    "\n",
    "    for value in sim['MAPPING_DICT'].values():\n",
    "        mapping_files.append(value)\n",
    "        \n",
    "    print(mapping_files)\n",
    "    m_file = mapping_files[1]\n",
    "    \n",
    "    for key_mol in molecules_dict:\n",
    "        with open('mapping_files/'+m_file,\"r\") as f:\n",
    "            for line in f:\n",
    "                #print(key_mol)\n",
    "                #print(sim[key_mol])\n",
    "                if sim[key_mol] in line:\n",
    "                    #print(sim[key_mol])\n",
    "                    #print(line)\n",
    "                    M_mol = line.split()[1]\n",
    "                    print(sim[key_mol] + \" \" +M_mol)\n",
    "        #print(u.select_atoms(\"resname \" + key_mol).n_residues)\n",
    "                    x = 'N' + key_mol\n",
    "                    sim[x] = u.select_atoms(\"resname \" + M_mol ).n_residues\n",
    "        \n",
    "        \n",
    "\n",
    "print(sim)\n"
   ]
  },
  {
   "cell_type": "code",
   "execution_count": null,
   "metadata": {},
   "outputs": [],
   "source": [
    "#Anne: Read temperature and trajectory length from tpr file\n",
    "import re\n",
    "\n",
    "dt = 0\n",
    "nsteps = 0\n",
    "nstxout = 0\n",
    "\n",
    "for sim in sims_working_links:\n",
    "    ID = sim.get('ID')\n",
    "    tpr = str(sim.get('TPR')).translate({ord(c): None for c in \"'][\"})\n",
    "    tpr_path = str(dir_wrk) + '/tmp/' + str(ID) + '/' + tpr\n",
    "    trj = str(sim.get('TRJ')).translate({ord(c): None for c in \"'][\"})\n",
    "    trj_path = str(dir_wrk) + '/tmp/' + str(ID) + '/' + trj\n",
    "    \n",
    "    !echo System | gmx dump -s {tpr_path} > tpr.txt\n",
    "    \n",
    "    file1 = str(dir_wrk) + '/tmp/' + str(ID) + '/tpr.txt'\n",
    "\n",
    "    with open(\"tpr.txt\", 'rt') as tpr_info:\n",
    "        for line in tpr_info:\n",
    "            if 'ref-t' in line:\n",
    "                sim['TEMPERATURE']=line.split()[1]\n",
    "    \n",
    "    mol = Universe(tpr_path, trj_path)\n",
    "    Nframes=len(mol.trajectory)\n",
    "    timestep = mol.trajectory.dt\n",
    " \n",
    "    trj_length = Nframes * timestep\n",
    "   \n",
    "    sim['TRJLENGTH'] = trj_length\n",
    "    \n",
    "    print(sim)"
   ]
  },
  {
   "cell_type": "markdown",
   "metadata": {},
   "source": [
    "# Save to databank"
   ]
  },
  {
   "cell_type": "code",
   "execution_count": 28,
   "metadata": {},
   "outputs": [
    {
     "name": "stdout",
     "output_type": "stream",
     "text": [
      "mkdir: cannot create directory ‘../Data’: File exists\n",
      "mkdir: cannot create directory ‘../Data/Simulations’: File exists\n",
      "mkdir: cannot create directory ‘../Data/Simulations/8ce’: File exists\n",
      "mkdir: cannot create directory ‘../Data/Simulations/8ce/d97’: File exists\n",
      "mkdir: cannot create directory ‘../Data/Simulations/8ce/d97/8ced974036b91b9375c4768f2b6dd13e0e70dac8’: File exists\n",
      "mkdir: cannot create directory ‘../Data/Simulations/8ce/d97/8ced974036b91b9375c4768f2b6dd13e0e70dac8/0bf1e9cac5686a0d1c8025b7710e2eede37a0c08’: File exists\n"
     ]
    }
   ],
   "source": [
    "#import json\n",
    "import yaml\n",
    "\n",
    "data_directory = {}\n",
    "for sim in sims_working_links:\n",
    "    ID=sim.get('ID')\n",
    "    # Batuhan: Creating a nested directory structure as discussed on the Issue here https://github.com/NMRLipids/NMRlipidsVIpolarizableFFs/issues/3\n",
    "    \n",
    "    head_dir = sims_hashes[ID].get('TPR')[0][1][0:3]\n",
    "    sub_dir1 = sims_hashes[ID].get('TPR')[0][1][3:6]\n",
    "    sub_dir2 = sims_hashes[ID].get('TPR')[0][1]\n",
    "    sub_dir3 = sims_hashes[ID].get('TRJ')[0][1]\n",
    "    \n",
    "   # !mkdir {'../TABLEIII/'}\n",
    "   # !mkdir {'../Data/Simulations'}\n",
    "   # !mkdir {'../Data/Simulations/TABLEIII'}\n",
    "\n",
    "    !mkdir {'../Data'} ## Batuhan: Added this line. It's not obvious that the user must create these directories\n",
    "    !mkdir {'../Data/Simulations'} ## Batuhan: Added this line. It's not obvious that the user must create these directories\n",
    "    !mkdir {'../Data/Simulations/' + str(head_dir)}\n",
    "    !mkdir {'../Data/Simulations/' + str(head_dir) + '/' + str(sub_dir1)}\n",
    "    !mkdir {'../Data/Simulations/' + str(head_dir) + '/' + str(sub_dir1) + '/' + str(sub_dir2)}\n",
    "    !mkdir {'../Data/Simulations/' + str(head_dir) + '/' + str(sub_dir1) + '/' + str(sub_dir2) + '/' + str(sub_dir3)}\n",
    "    \n",
    "    DATAdir = '../Data/Simulations/' + str(head_dir) + '/' + str(sub_dir1) + '/' + str(sub_dir2) + '/' + str(sub_dir3)\n",
    "    data_directory[str(ID)] = DATAdir\n",
    "    \n",
    "    # SAMULI: I am writin now in txt, but using json might be better in the future\n",
    "   # outfileDICT=open(str(DATAdir)+'/README.md','w')\n",
    "   # outfileDICT=str(dir_wrk)+'/tmp/'+str(ID)+'/'+ 'README.json'\n",
    "    \n",
    "   # with open(outfileDICT, 'w') as f:\n",
    "   #     json.dump(sim, f)\n",
    "   \n",
    "\n",
    "    #!cp {str(dir_wrk)}'/tmp/'{str(ID)}'/README.json' {data_directory.get(str(ID))}  \n",
    "# dictionary saved in yaml format\n",
    "    outfileDICT=str(dir_wrk)+'/tmp/'+str(ID)+'/'+ 'README.yaml'\n",
    "    \n",
    "    with open(outfileDICT, 'w') as f:\n",
    "        yaml.dump(sim,f, sort_keys=False)\n",
    "        \n",
    "    !cp {str(dir_wrk)}'/tmp/'{str(ID)}'/README.yaml' {data_directory.get(str(ID))}\n",
    "    #outfileDICT.write(str(sim))\n",
    "    #outfileDICT.close()\n",
    "   "
   ]
  },
  {
   "cell_type": "markdown",
   "metadata": {},
   "source": [
    "# Analysis starts here\n"
   ]
  },
  {
   "cell_type": "code",
   "execution_count": 35,
   "metadata": {
    "scrolled": false
   },
   "outputs": [
    {
     "name": "stdout",
     "output_type": "stream",
     "text": [
      "converting the trajectory into xtc\n",
      "Warning: 'topology' data from input file(s) will be discarded. output format only supports fields: 'xyz', 'time', 'step', 'box'\n",
      "converted 5139 frames, 56996 atoms \n",
      "trajectory conversion is completed\n",
      "Calculating order parameters\n",
      "Done calculating order parameters.\n"
     ]
    }
   ],
   "source": [
    "from OrderParameter import *\n",
    "import warnings\n",
    "#from corrtimes import *\n",
    "import subprocess\n",
    "import mdtraj\n",
    "import json\n",
    "#!cp corr_ftios_ind.sh {dir_wrk}\n",
    "for sim in sims_working_links:\n",
    "    trj=sim.get('TRJ')\n",
    "    tpr=sim.get('TPR')\n",
    "    ID=sim.get('ID')\n",
    "    software=sim.get('SOFTWARE')\n",
    "    preEQ=sim.get('PREEQTIME')\n",
    "    \n",
    "    ext=trj[0:-3] # getting the trajectory extension\n",
    "    \n",
    "    # BATUHAN: Adding a few lines to convert the trajectory into .xtc using MDTRAJ\n",
    "    #          We will need users to install MDTRAJ in their system so that we can convert other trajectories into xtc\n",
    "\n",
    "    if software != \"gromacs\":\n",
    "        \n",
    "        print(\"converting the trajectory into xtc\")\n",
    "        \n",
    "        pdb = sim.get('PDB')\n",
    "        output_traj = str(dir_wrk) + '/tmp/' + str(ID) + '/' + 'tmp_converted.xtc'\n",
    "        input_traj = str(dir_wrk) + '/tmp/' + str(ID) + '/' + trj[0][0]\n",
    "        input_pdb = str(dir_wrk) + '/tmp/' + str(ID) + '/' + pdb[0][0]\n",
    "      \n",
    "        if os.path.isfile(output_traj): # when we're done with the converted trajectory we can simply remove it\n",
    "            !rm {output_traj}\n",
    "        \n",
    "        !echo System | mdconvert {input_traj} -o {output_traj} -t {input_pdb} --force # force overwrite\n",
    "        \n",
    "        # SAMULI: this xtcwhole does not necessarily have molecules as whole. Only if {input_traj} has.\n",
    "        xtcwhole = str(dir_wrk) + '/tmp/' + str(ID) + '/' + 'tmp_converted.xtc'\n",
    "        tpr=input_pdb\n",
    "        \n",
    "        print(\"trajectory conversion is completed\")\n",
    "        \n",
    "    else:\n",
    "    \n",
    "        xtc = str(dir_wrk) + '/tmp/' + str(ID) + '/' + str(trj[0][0])  \n",
    "        tpr = str(dir_wrk) + '/tmp/' + str(ID) + '/' + str(tpr[0][0])\n",
    "        xtcwhole=str(dir_wrk)+'/tmp/'+str(ID)+'/whole.xtc'\n",
    "        !echo System | gmx trjconv -f {xtc} -s {tpr} -o {xtcwhole} -pbc mol -b {preEQ}\n",
    "   \n",
    "\n",
    "    \n",
    "    print(\"Calculating order parameters\")\n",
    "    \n",
    "    outfile=open(str(dir_wrk)+'/tmp/'+str(ID)+'/'+'OrderParameters.dat','w')\n",
    "    line1=\"Atom     Average OP     OP stem\"+'\\n'\n",
    "    outfile.write(line1)\n",
    "    \n",
    "    data = {}\n",
    "    outfile2=str(dir_wrk)+'/tmp/'+str(ID)+'/'+'OrderParameters.json' \n",
    "\n",
    "    for key in sim['MAPPING_DICT']:    \n",
    "        mapping_file = sim['MAPPING_DICT'][key]\n",
    "    \n",
    "     #   try:\n",
    "        OrdParam=find_OP('mapping_files/'+mapping_file,tpr,xtcwhole)\n",
    "      #  except OSError:\n",
    "            #OrdParam=find_OP(mapping_file,tpr,xtcwhole)\n",
    "        \n",
    "    \n",
    "    \n",
    "        for i,op in enumerate(OrdParam):\n",
    "            resops =op.get_op_res\n",
    "            (op.avg, op.std, op.stem) =op.get_avg_std_stem_OP\n",
    "            line2=str(op.name)+\" \"+str(op.avg)+\" \"+str(op.stem)+'\\n'\n",
    "            outfile.write(line2)\n",
    "    \n",
    "            data[str(op.name)]=[]\n",
    "            data[str(op.name)].append(op.get_avg_std_stem_OP)\n",
    "        \n",
    "        with open(outfile2, 'w') as f:\n",
    "            json.dump(data,f)\n",
    "\n",
    "    outfile.close()\n",
    "    !cp {str(dir_wrk)}'/tmp/'{str(ID)}'/OrderParameters.dat' {data_directory.get(str(ID))}    \n",
    "    !cp {str(dir_wrk)}'/tmp/'{str(ID)}'/OrderParameters.json' {data_directory.get(str(ID))}  \n",
    "    \n",
    "    print(\"Done calculating order parameters.\")"
   ]
  },
  {
   "cell_type": "code",
   "execution_count": null,
   "metadata": {},
   "outputs": [],
   "source": []
  }
 ],
 "metadata": {
  "kernelspec": {
   "display_name": "Python 3",
   "language": "python",
   "name": "python3"
  },
  "language_info": {
   "codemirror_mode": {
    "name": "ipython",
    "version": 3
   },
   "file_extension": ".py",
   "mimetype": "text/x-python",
   "name": "python",
   "nbconvert_exporter": "python",
   "pygments_lexer": "ipython3",
   "version": "3.7.3"
  }
 },
 "nbformat": 4,
 "nbformat_minor": 2
}
